{
 "cells": [
  {
   "cell_type": "markdown",
   "id": "b0d5eb7e-20e6-486b-b99a-09a9a82ddf0b",
   "metadata": {},
   "source": [
    "# Data Exploration"
   ]
  },
  {
   "cell_type": "markdown",
   "id": "fcc6b2a5-5e38-47bd-828e-176a73976232",
   "metadata": {},
   "source": [
    "## 1. checking the data columns types"
   ]
  },
  {
   "cell_type": "code",
   "execution_count": 1,
   "id": "96a8d95e-96d1-42ab-af19-fd091c1c1e44",
   "metadata": {},
   "outputs": [
    {
     "data": {
      "text/html": [
       "<div>\n",
       "<style scoped>\n",
       "    .dataframe tbody tr th:only-of-type {\n",
       "        vertical-align: middle;\n",
       "    }\n",
       "\n",
       "    .dataframe tbody tr th {\n",
       "        vertical-align: top;\n",
       "    }\n",
       "\n",
       "    .dataframe thead th {\n",
       "        text-align: right;\n",
       "    }\n",
       "</style>\n",
       "<table border=\"1\" class=\"dataframe\">\n",
       "  <thead>\n",
       "    <tr style=\"text-align: right;\">\n",
       "      <th></th>\n",
       "      <th>age</th>\n",
       "      <th>workclass</th>\n",
       "      <th>fnlwgt</th>\n",
       "      <th>education</th>\n",
       "      <th>education-num</th>\n",
       "      <th>marital-status</th>\n",
       "      <th>occupation</th>\n",
       "      <th>relationship</th>\n",
       "      <th>race</th>\n",
       "      <th>sex</th>\n",
       "      <th>capital-gain</th>\n",
       "      <th>capital-loss</th>\n",
       "      <th>hours-per-week</th>\n",
       "      <th>native-country</th>\n",
       "      <th>income</th>\n",
       "    </tr>\n",
       "  </thead>\n",
       "  <tbody>\n",
       "    <tr>\n",
       "      <th>0</th>\n",
       "      <td>39</td>\n",
       "      <td>State-gov</td>\n",
       "      <td>77516</td>\n",
       "      <td>Bachelors</td>\n",
       "      <td>13</td>\n",
       "      <td>Never-married</td>\n",
       "      <td>Adm-clerical</td>\n",
       "      <td>Not-in-family</td>\n",
       "      <td>White</td>\n",
       "      <td>Male</td>\n",
       "      <td>2174</td>\n",
       "      <td>0</td>\n",
       "      <td>40</td>\n",
       "      <td>United-States</td>\n",
       "      <td>&lt;=50K</td>\n",
       "    </tr>\n",
       "  </tbody>\n",
       "</table>\n",
       "</div>"
      ],
      "text/plain": [
       "   age   workclass  fnlwgt   education  education-num  marital-status  \\\n",
       "0   39   State-gov   77516   Bachelors             13   Never-married   \n",
       "\n",
       "      occupation    relationship    race    sex  capital-gain  capital-loss  \\\n",
       "0   Adm-clerical   Not-in-family   White   Male          2174             0   \n",
       "\n",
       "   hours-per-week  native-country  income  \n",
       "0              40   United-States   <=50K  "
      ]
     },
     "execution_count": 1,
     "metadata": {},
     "output_type": "execute_result"
    }
   ],
   "source": [
    "import pandas as pd\n",
    "\n",
    "columns = [\n",
    "    \"age\", \"workclass\", \"fnlwgt\", \"education\", \"education-num\", \n",
    "    \"marital-status\", \"occupation\", \"relationship\", \"race\", \n",
    "    \"sex\", \"capital-gain\", \"capital-loss\", \"hours-per-week\", \n",
    "    \"native-country\", \"income\"\n",
    "]\n",
    "\n",
    "df = pd.read_csv('adult/adult.data', header=None, names=columns)\n",
    "df.head(1)"
   ]
  },
  {
   "cell_type": "code",
   "execution_count": 2,
   "id": "2f56b682-dda0-42b8-a226-f3ecba2ebba2",
   "metadata": {},
   "outputs": [
    {
     "name": "stdout",
     "output_type": "stream",
     "text": [
      "            Column Actual Type Expected Type\n",
      "0              age       int64         int64\n",
      "1        workclass      object        object\n",
      "2           fnlwgt       int64         int64\n",
      "3        education      object        object\n",
      "4    education-num       int64         int64\n",
      "5   marital-status      object        object\n",
      "6       occupation      object        object\n",
      "7     relationship      object        object\n",
      "8             race      object        object\n",
      "9              sex      object        object\n",
      "10    capital-gain       int64         int64\n",
      "11    capital-loss       int64         int64\n",
      "12  hours-per-week       int64         int64\n",
      "13  native-country      object        object\n",
      "14          income      object        object\n"
     ]
    }
   ],
   "source": [
    "# Comparing Data Types\n",
    "\n",
    "data_types = df.dtypes\n",
    "data_types\n",
    "\n",
    "expected_types = {\n",
    "    \"age\": \"int64\", \"workclass\": \"object\", \"fnlwgt\": \"int64\", \"education\": \"object\", \"education-num\": \"int64\",\n",
    "    \"marital-status\": \"object\", \"occupation\": \"object\", \"relationship\": \"object\", \"race\": \"object\", \"sex\": \"object\",\n",
    "    \"capital-gain\": \"int64\", \"capital-loss\": \"int64\", \"hours-per-week\": \"int64\", \"native-country\": \"object\", \"income\": \"object\"\n",
    "}\n",
    "\n",
    "# compare extected with actual types\n",
    "type_comparison = pd.DataFrame({\n",
    "    \"Column\": df.columns,\n",
    "    \"Actual Type\": data_types.values,\n",
    "    \"Expected Type\": [expected_types[col] for col in df.columns]\n",
    "})\n",
    "print(type_comparison)"
   ]
  },
  {
   "cell_type": "raw",
   "id": "121d5027-a80d-4da1-8e9e-13f1e7246626",
   "metadata": {},
   "source": [
    "Yes, the detected data types for all columns in the dataset are as expected based on their descriptions in the text file (adult.names).\n",
    "However, let's explore if they match the expected values (mainly selection ones)"
   ]
  },
  {
   "cell_type": "code",
   "execution_count": 3,
   "id": "b5dff379-67f7-4b74-b2f1-bf4269dee703",
   "metadata": {},
   "outputs": [],
   "source": [
    "df = df.apply(lambda col: col.map(lambda x: x.strip() if isinstance(x, str) else x))"
   ]
  },
  {
   "cell_type": "code",
   "execution_count": 4,
   "id": "6d9e6f8d-cd0a-420d-b714-c07c7a9bc56a",
   "metadata": {},
   "outputs": [
    {
     "data": {
      "text/html": [
       "<div>\n",
       "<style scoped>\n",
       "    .dataframe tbody tr th:only-of-type {\n",
       "        vertical-align: middle;\n",
       "    }\n",
       "\n",
       "    .dataframe tbody tr th {\n",
       "        vertical-align: top;\n",
       "    }\n",
       "\n",
       "    .dataframe thead th {\n",
       "        text-align: right;\n",
       "    }\n",
       "</style>\n",
       "<table border=\"1\" class=\"dataframe\">\n",
       "  <thead>\n",
       "    <tr style=\"text-align: right;\">\n",
       "      <th></th>\n",
       "      <th>Valid</th>\n",
       "      <th>Invalid Values</th>\n",
       "    </tr>\n",
       "  </thead>\n",
       "  <tbody>\n",
       "    <tr>\n",
       "      <th>workclass</th>\n",
       "      <td>False</td>\n",
       "      <td>[?]</td>\n",
       "    </tr>\n",
       "    <tr>\n",
       "      <th>education</th>\n",
       "      <td>True</td>\n",
       "      <td>[]</td>\n",
       "    </tr>\n",
       "    <tr>\n",
       "      <th>marital-status</th>\n",
       "      <td>True</td>\n",
       "      <td>[]</td>\n",
       "    </tr>\n",
       "    <tr>\n",
       "      <th>occupation</th>\n",
       "      <td>False</td>\n",
       "      <td>[?]</td>\n",
       "    </tr>\n",
       "    <tr>\n",
       "      <th>relationship</th>\n",
       "      <td>True</td>\n",
       "      <td>[]</td>\n",
       "    </tr>\n",
       "    <tr>\n",
       "      <th>race</th>\n",
       "      <td>True</td>\n",
       "      <td>[]</td>\n",
       "    </tr>\n",
       "    <tr>\n",
       "      <th>sex</th>\n",
       "      <td>True</td>\n",
       "      <td>[]</td>\n",
       "    </tr>\n",
       "    <tr>\n",
       "      <th>native-country</th>\n",
       "      <td>False</td>\n",
       "      <td>[?]</td>\n",
       "    </tr>\n",
       "    <tr>\n",
       "      <th>income</th>\n",
       "      <td>True</td>\n",
       "      <td>[]</td>\n",
       "    </tr>\n",
       "  </tbody>\n",
       "</table>\n",
       "</div>"
      ],
      "text/plain": [
       "                Valid Invalid Values\n",
       "workclass       False            [?]\n",
       "education        True             []\n",
       "marital-status   True             []\n",
       "occupation      False            [?]\n",
       "relationship     True             []\n",
       "race             True             []\n",
       "sex              True             []\n",
       "native-country  False            [?]\n",
       "income           True             []"
      ]
     },
     "execution_count": 4,
     "metadata": {},
     "output_type": "execute_result"
    }
   ],
   "source": [
    "# Compare types of Selection Values (categorical)\n",
    "\n",
    "expected_values = {\n",
    "    \"workclass\": [\n",
    "        \"Private\", \"Self-emp-not-inc\", \"Self-emp-inc\", \"Federal-gov\", \"Local-gov\",\n",
    "        \"State-gov\", \"Without-pay\", \"Never-worked\"\n",
    "    ],\n",
    "    \"education\": [\n",
    "        \"Bachelors\", \"Some-college\", \"11th\", \"HS-grad\", \"Prof-school\", \"Assoc-acdm\",\n",
    "        \"Assoc-voc\", \"9th\", \"7th-8th\", \"12th\", \"Masters\", \"1st-4th\", \"10th\", \n",
    "        \"Doctorate\", \"5th-6th\", \"Preschool\"\n",
    "    ],\n",
    "    \"marital-status\": [\n",
    "        \"Married-civ-spouse\", \"Divorced\", \"Never-married\", \"Separated\", \"Widowed\", \n",
    "        \"Married-spouse-absent\", \"Married-AF-spouse\"\n",
    "    ],\n",
    "    \"occupation\": [\n",
    "        \"Tech-support\", \"Craft-repair\", \"Other-service\", \"Sales\", \"Exec-managerial\",\n",
    "        \"Prof-specialty\", \"Handlers-cleaners\", \"Machine-op-inspct\", \"Adm-clerical\",\n",
    "        \"Farming-fishing\", \"Transport-moving\", \"Priv-house-serv\", \"Protective-serv\",\n",
    "        \"Armed-Forces\"\n",
    "    ],\n",
    "    \"relationship\": [\n",
    "        \"Wife\", \"Own-child\", \"Husband\", \"Not-in-family\", \"Other-relative\", \n",
    "        \"Unmarried\"\n",
    "    ],\n",
    "    \"race\": [\n",
    "        \"White\", \"Asian-Pac-Islander\", \"Amer-Indian-Eskimo\", \"Other\", \"Black\"\n",
    "    ],\n",
    "    \"sex\": [\"Female\", \"Male\"],\n",
    "    \"native-country\": [\n",
    "        \"United-States\", \"Cambodia\", \"England\", \"Puerto-Rico\", \"Canada\", \"Germany\", \n",
    "        \"Outlying-US(Guam-USVI-etc)\", \"India\", \"Japan\", \"Greece\", \"South\", \"China\", \n",
    "        \"Cuba\", \"Iran\", \"Honduras\", \"Philippines\", \"Italy\", \"Poland\", \"Jamaica\", \n",
    "        \"Vietnam\", \"Mexico\", \"Portugal\", \"Ireland\", \"France\", \"Dominican-Republic\", \n",
    "        \"Laos\", \"Ecuador\", \"Taiwan\", \"Haiti\", \"Columbia\", \"Hungary\", \"Guatemala\", \n",
    "        \"Nicaragua\", \"Scotland\", \"Thailand\", \"Yugoslavia\", \"El-Salvador\", \n",
    "        \"Trinadad&Tobago\", \"Peru\", \"Hong\", \"Holand-Netherlands\"\n",
    "    ],\n",
    "    \"income\": [\">50K\", \"<=50K\"]\n",
    "}\n",
    "\n",
    "validation_results = {}\n",
    "for column, expected in expected_values.items():\n",
    "    unique_values = df[column].unique()\n",
    "    invalid_values = [val for val in unique_values if val.strip() not in expected]\n",
    "    validation_results[column] = {\n",
    "        \"Valid\": len(invalid_values) == 0,\n",
    "        \"Invalid Values\": invalid_values\n",
    "    }\n",
    "\n",
    "# visualize dict as dataframe\n",
    "pd.DataFrame.from_dict(validation_results, orient=\"index\")"
   ]
  },
  {
   "cell_type": "raw",
   "id": "99ed8958-9c04-4642-b948-64809339356d",
   "metadata": {},
   "source": [
    "So everything seems valid according to the text file.\n",
    "The '?' indicates missing values which shall be addressed in the section below"
   ]
  },
  {
   "cell_type": "markdown",
   "id": "429c2560-262c-4015-9c3a-affa430c2d1b",
   "metadata": {},
   "source": [
    "## 2. Missing Values"
   ]
  },
  {
   "cell_type": "raw",
   "id": "ca1a81b6-8074-44ab-8508-eae238fb4afc",
   "metadata": {},
   "source": [
    "Missing values in this dataset are represented as the '?'.\n",
    "Let's replace them with np.nan"
   ]
  },
  {
   "cell_type": "code",
   "execution_count": 7,
   "id": "6c084054-b770-4256-87c5-fdf05ed34d14",
   "metadata": {},
   "outputs": [],
   "source": [
    "import numpy as np\n",
    "\n",
    "df.replace('?', np.nan, inplace=True)"
   ]
  },
  {
   "cell_type": "raw",
   "id": "2ab62110-216d-45f6-82ae-41695a77aa0d",
   "metadata": {},
   "source": [
    "Below you can see the number of null values in the dataset for each column"
   ]
  },
  {
   "cell_type": "code",
   "execution_count": 8,
   "id": "e3fa53de-0f58-4765-9d24-07e1298264ce",
   "metadata": {},
   "outputs": [
    {
     "data": {
      "text/plain": [
       "age                  0\n",
       "workclass         1836\n",
       "fnlwgt               0\n",
       "education            0\n",
       "education-num        0\n",
       "marital-status       0\n",
       "occupation        1843\n",
       "relationship         0\n",
       "race                 0\n",
       "sex                  0\n",
       "capital-gain         0\n",
       "capital-loss         0\n",
       "hours-per-week       0\n",
       "native-country     583\n",
       "income               0\n",
       "dtype: int64"
      ]
     },
     "execution_count": 8,
     "metadata": {},
     "output_type": "execute_result"
    }
   ],
   "source": [
    "df.isnull().sum()"
   ]
  },
  {
   "cell_type": "markdown",
   "id": "eabeaf60-80b2-44a6-9774-ea6d7052c56a",
   "metadata": {},
   "source": [
    "## 3. Exploring the fields **capital_gain** and **capital_loss**"
   ]
  },
  {
   "cell_type": "raw",
   "id": "f431b821-0c2c-4c9f-bae8-aaa080d99cf1",
   "metadata": {},
   "source": [
    "Let's plot their distributions to observe their patterns"
   ]
  },
  {
   "cell_type": "code",
   "execution_count": 10,
   "id": "5e285394-4f63-4b3c-9701-83c22e316ef4",
   "metadata": {},
   "outputs": [
    {
     "data": {
      "image/png": "[encoded data removed]",
      "text/plain": [
       "<Figure size 1000x400 with 2 Axes>"
      ]
     },
     "metadata": {},
     "output_type": "display_data"
    }
   ],
   "source": [
    "import matplotlib.pyplot as plt\n",
    "\n",
    "plt.figure(figsize=(10, 4))\n",
    "\n",
    "# capital-gain\n",
    "plt.subplot(1, 2, 1)\n",
    "plt.hist(df[\"capital-gain\"], bins=50, color=\"blue\", edgecolor=\"black\")\n",
    "plt.title(\"Distribution of Capital Gain\")\n",
    "plt.xlabel(\"Capital Gain\")\n",
    "plt.ylabel(\"Frequency\")\n",
    "\n",
    "# capital-loss\n",
    "plt.subplot(1, 2, 2)\n",
    "plt.hist(df[\"capital-loss\"], bins=50, color=\"orange\", edgecolor=\"black\")\n",
    "plt.title(\"Distribution of Capital Loss\")\n",
    "plt.xlabel(\"Capital Loss\")\n",
    "plt.ylabel(\"Frequency\")\n",
    "\n",
    "plt.tight_layout()\n",
    "plt.show()"
   ]
  },
  {
   "cell_type": "raw",
   "id": "b7fd33eb-1478-4c5a-a563-f21d7fd3f1e9",
   "metadata": {},
   "source": [
    "Both columns seem to have highly skewed distributions with most values concentrated around 0 and very few spread out across a large range.\n",
    "It would make sense to bin theminto ranges (none, some) as we're not using them in our analysis as much as for judgement."
   ]
  },
  {
   "cell_type": "code",
   "execution_count": 16,
   "id": "ebd9a876-e03a-4cfa-b144-9e005214b216",
   "metadata": {},
   "outputs": [],
   "source": [
    "# Transform cols to Categorical\n",
    "\n",
    "capital_gain_median = df[\"capital-gain\"][df[\"capital-gain\"] > 0].median() if df[\"capital-gain\"].median() > 0 else None\n",
    "capital_loss_median = df[\"capital-loss\"][df[\"capital-loss\"] > 0].median() if df[\"capital-loss\"].median() > 0 else None\n",
    "# Create bins for capital-gain\n",
    "if capital_gain_median:\n",
    "    df[\"capital_gain_cat\"] = pd.cut(\n",
    "        df[\"capital-gain\"], \n",
    "        bins=[-1, 0, capital_gain_median, df[\"capital-gain\"].max()], \n",
    "        labels=[\"None\", \"Low\", \"High\"]\n",
    "    )\n",
    "else:\n",
    "    df[\"capital_gain_cat\"] = pd.cut(\n",
    "        df[\"capital-gain\"], \n",
    "        bins=[-1, 0, df[\"capital-gain\"].max()], \n",
    "        labels=[\"None\", \"Some\"]\n",
    "    )\n",
    "\n",
    "# Create bins for capital-loss\n",
    "if capital_loss_median:\n",
    "    df[\"capital_loss_cat\"] = pd.cut(\n",
    "        df[\"capital-loss\"], \n",
    "        bins=[-1, 0, capital_loss_median, df[\"capital-loss\"].max()], \n",
    "        labels=[\"None\", \"Low\", \"High\"]\n",
    "    )\n",
    "else:\n",
    "    df[\"capital_loss_cat\"] = pd.cut(\n",
    "        df[\"capital-loss\"], \n",
    "        bins=[-1, 0, df[\"capital-loss\"].max()], \n",
    "        labels=[\"None\", \"Some\"]\n",
    "    )"
   ]
  },
  {
   "cell_type": "code",
   "execution_count": 17,
   "id": "4e632f00-a1e2-418e-a500-2ba6bf9ee3b5",
   "metadata": {},
   "outputs": [
    {
     "name": "stdout",
     "output_type": "stream",
     "text": [
      "Distribution of New Categorical Variables:\n",
      "  Category  Capital Gain Count  Capital Loss Count\n",
      "0     None               29849               31042\n",
      "1     Some                2712                1519\n"
     ]
    },
    {
     "data": {
      "image/png": "[encoded data removed]",
      "text/plain": [
       "<Figure size 1000x500 with 2 Axes>"
      ]
     },
     "metadata": {},
     "output_type": "display_data"
    }
   ],
   "source": [
    "# Display the new Categorical Variables\n",
    "\n",
    "capital_gain_dist = df[\"capital_gain_cat\"].value_counts()\n",
    "capital_loss_dist = df[\"capital_loss_cat\"].value_counts()\n",
    "\n",
    "# Display the distributions in a table format\n",
    "distribution_table = pd.DataFrame({\n",
    "    \"Category\": [\"None\", \"Some\"],\n",
    "    \"Capital Gain Count\": capital_gain_dist.values,\n",
    "    \"Capital Loss Count\": capital_loss_dist.values\n",
    "})\n",
    "\n",
    "print(\"Distribution of New Categorical Variables:\")\n",
    "print(distribution_table)\n",
    "\n",
    "# Plot the distributions\n",
    "plt.figure(figsize=(10, 5))\n",
    "\n",
    "# Capital Gain\n",
    "plt.subplot(1, 2, 1)\n",
    "capital_gain_dist.plot(kind=\"bar\", color=[\"blue\", \"orange\"], edgecolor=\"black\")\n",
    "plt.title(\"Capital Gain Categories\")\n",
    "plt.xlabel(\"Category\")\n",
    "plt.ylabel(\"Count\")\n",
    "plt.xticks(rotation=0)\n",
    "\n",
    "# Capital Loss\n",
    "plt.subplot(1, 2, 2)\n",
    "capital_loss_dist.plot(kind=\"bar\", color=[\"green\", \"red\"], edgecolor=\"black\")\n",
    "plt.title(\"Capital Loss Categories\")\n",
    "plt.xlabel(\"Category\")\n",
    "plt.ylabel(\"Count\")\n",
    "plt.xticks(rotation=0)\n",
    "\n",
    "plt.tight_layout()\n",
    "plt.show()"
   ]
  },
  {
   "cell_type": "raw",
   "id": "324b25ec-4ecb-42ca-aff7-8e93b6db2cc2",
   "metadata": {},
   "source": [
    "A little had gains, so converting them into binary-like categories sounds fair."
   ]
  },
  {
   "cell_type": "markdown",
   "id": "f63af58e-c5d8-4661-b782-7ce5f4844b60",
   "metadata": {},
   "source": [
    "## 4-5. Analyzing the Distribution of fnlwgt"
   ]
  },
  {
   "cell_type": "raw",
   "id": "b359aed4-b59a-4bdb-8c7c-ba40003c946e",
   "metadata": {},
   "source": [
    "let's explore the distribution of fnlwgt through some plots and statistical measures grouped by sex"
   ]
  },
  {
   "cell_type": "code",
   "execution_count": 18,
   "id": "ddb1dd2c-cba3-4e6d-af23-66de8020d76e",
   "metadata": {},
   "outputs": [
    {
     "name": "stdout",
     "output_type": "stream",
     "text": [
      "Mean fnlwgt: 189778.36651208502\n",
      "Median fnlwgt: 178356.0\n",
      "Skewness of fnlwgt: 1.446913435142329\n"
     ]
    },
    {
     "data": {
      "image/png": "[encoded data removed]",
      "text/plain": [
       "<Figure size 1200x500 with 1 Axes>"
      ]
     },
     "metadata": {},
     "output_type": "display_data"
    }
   ],
   "source": [
    "import seaborn as sns\n",
    "from scipy.stats import skew\n",
    "\n",
    "plt.figure(figsize=(12, 5))\n",
    "\n",
    "# overall distriution\n",
    "plt.subplot(1, 2, 1)\n",
    "sns.histplot(df[\"fnlwgt\"], kde=True, color=\"blue\", bins=50)\n",
    "plt.title(\"Distribution of fnlwgt\")\n",
    "plt.xlabel(\"fnlwgt\")\n",
    "plt.ylabel(\"Frequency\")\n",
    "\n",
    "# Numerical Summary\n",
    "fnlwgt_mean = df[\"fnlwgt\"].mean()\n",
    "fnlwgt_median = df[\"fnlwgt\"].median()\n",
    "fnlwgt_skewness = skew(df[\"fnlwgt\"])\n",
    "\n",
    "print(f\"Mean fnlwgt: {fnlwgt_mean}\")\n",
    "print(f\"Median fnlwgt: {fnlwgt_median}\")\n",
    "print(f\"Skewness of fnlwgt: {fnlwgt_skewness}\")"
   ]
  },
  {
   "cell_type": "markdown",
   "id": "a326e266-72b8-4117-9685-f8ba55d91f00",
   "metadata": {},
   "source": [
    "**Histogram**:\n",
    "- The distribution of fnlwgt is heavily right-skewed, with the majority of values concentrated near the lower end and a long tail toward higher values.\n",
    "\n",
    "**Numerical Analysis**:\n",
    "- Mean: 189778.37\n",
    "- Median: 178356.0\n",
    "- Skewness: 1.447 (significant right skewness).\n",
    "\n",
    "**Conclusion**:<br/>\n",
    "The mean is slightly higher than the median, indicating right-skewness in the data.\n",
    "Most samples represent a small fraction of the population, with a few outliers representing larger shares."
   ]
  },
  {
   "cell_type": "code",
   "execution_count": 19,
   "id": "2043fcc1-f7f0-45f6-badd-b715a5eb606b",
   "metadata": {},
   "outputs": [
    {
     "name": "stderr",
     "output_type": "stream",
     "text": [
      "C:\\Users\\bay\\AppData\\Local\\Temp\\ipykernel_6584\\2816677319.py:3: FutureWarning: \n",
      "\n",
      "Passing `palette` without assigning `hue` is deprecated and will be removed in v0.14.0. Assign the `x` variable to `hue` and set `legend=False` for the same effect.\n",
      "\n",
      "  sns.boxplot(data=df, x=\"sex\", y=\"fnlwgt\", palette=\"Set2\")\n",
      "C:\\Users\\bay\\AppData\\Local\\Programs\\Python\\Python310\\lib\\site-packages\\seaborn\\_base.py:948: FutureWarning: When grouping with a length-1 list-like, you will need to pass a length-1 tuple to get_group in a future version of pandas. Pass `(name,)` instead of `name` to silence this warning.\n",
      "  data_subset = grouped_data.get_group(pd_key)\n",
      "C:\\Users\\bay\\AppData\\Local\\Programs\\Python\\Python310\\lib\\site-packages\\seaborn\\categorical.py:632: FutureWarning: SeriesGroupBy.grouper is deprecated and will be removed in a future version of pandas.\n",
      "  positions = grouped.grouper.result_index.to_numpy(dtype=float)\n",
      "C:\\Users\\bay\\AppData\\Local\\Programs\\Python\\Python310\\lib\\site-packages\\seaborn\\_base.py:948: FutureWarning: When grouping with a length-1 list-like, you will need to pass a length-1 tuple to get_group in a future version of pandas. Pass `(name,)` instead of `name` to silence this warning.\n",
      "  data_subset = grouped_data.get_group(pd_key)\n",
      "C:\\Users\\bay\\AppData\\Local\\Programs\\Python\\Python310\\lib\\site-packages\\seaborn\\categorical.py:632: FutureWarning: SeriesGroupBy.grouper is deprecated and will be removed in a future version of pandas.\n",
      "  positions = grouped.grouper.result_index.to_numpy(dtype=float)\n"
     ]
    },
    {
     "data": {
      "image/png": "[encoded data removed]",
      "text/plain": [
       "<Figure size 640x480 with 1 Axes>"
      ]
     },
     "metadata": {},
     "output_type": "display_data"
    }
   ],
   "source": [
    "# compare distribution between men and women\n",
    "plt.subplot(1, 2, 2)\n",
    "sns.boxplot(data=df, x=\"sex\", y=\"fnlwgt\", palette=\"Set2\")\n",
    "plt.title(\"fnlwgt Distribution by Sex\")\n",
    "plt.xlabel(\"Sex\")\n",
    "plt.ylabel(\"fnlwgt\")\n",
    "\n",
    "plt.tight_layout()\n",
    "plt.show()"
   ]
  },
  {
   "cell_type": "markdown",
   "id": "e9ef3531-50d0-4fcf-a47d-4c2983f8f0c6",
   "metadata": {},
   "source": [
    "**Boxplot Observations**:\n",
    "The fnlwgt distributions for both men and women are similar in structure\n",
    "- both distributions have a dense lower range and a significant number of outliers in the higher range\n",
    "- medians are almost identical for men and women\n",
    "\n",
    "**Conclusion**:<br/>\n",
    "The fnlwgt distribution does not show significant differences between men and women, suggesting that sampling weights are applied uniformly across genders"
   ]
  },
  {
   "cell_type": "code",
   "execution_count": 20,
   "id": "4baecd52-7448-4bc2-8bd6-8a6b3214e6a2",
   "metadata": {},
   "outputs": [
    {
     "name": "stdout",
     "output_type": "stream",
     "text": [
      "Number of outliers: 992\n"
     ]
    }
   ],
   "source": [
    "# Identify outliers using the IQR method\n",
    "Q1 = df[\"fnlwgt\"].quantile(0.25)\n",
    "Q3 = df[\"fnlwgt\"].quantile(0.75)\n",
    "IQR = Q3 - Q1\n",
    "lower_bound = Q1 - 1.5 * IQR\n",
    "upper_bound = Q3 + 1.5 * IQR\n",
    "\n",
    "# Count outliers\n",
    "outliers = df[(df[\"fnlwgt\"] < lower_bound) | (df[\"fnlwgt\"] > upper_bound)]\n",
    "print(f\"Number of outliers: {len(outliers)}\")"
   ]
  },
  {
   "cell_type": "raw",
   "id": "c6541c32-04dd-4df4-b44b-eb78a42a2885",
   "metadata": {},
   "source": [
    "# let's exclude the outlayers\n",
    "\n",
    "df.loc[(df[\"fnlwgt\"] < lower_bound) | (df[\"fnlwgt\"] > upper_bound), \"fnlwgt\"] = np.nan"
   ]
  },
  {
   "cell_type": "markdown",
   "id": "1c4d3546-56be-40a1-ac68-e69f37f27143",
   "metadata": {},
   "source": [
    "---"
   ]
  },
  {
   "cell_type": "markdown",
   "id": "5454b085-a859-453a-872d-5f171c16bbcb",
   "metadata": {},
   "source": [
    "# Correlation"
   ]
  },
  {
   "cell_type": "markdown",
   "id": "a5bdba66-6035-4a49-aec3-114f1545cc11",
   "metadata": {},
   "source": [
    "## 1. Correlation Analysis"
   ]
  },
  {
   "cell_type": "code",
   "execution_count": null,
   "id": "3393f530-1138-47f6-9c72-551a56cabe3c",
   "metadata": {},
   "outputs": [],
   "source": []
  }
 ],
 "metadata": {
  "kernelspec": {
   "display_name": "Python 3 (ipykernel)",
   "language": "python",
   "name": "python3"
  },
  "language_info": {
   "codemirror_mode": {
    "name": "ipython",
    "version": 3
   },
   "file_extension": ".py",
   "mimetype": "text/x-python",
   "name": "python",
   "nbconvert_exporter": "python",
   "pygments_lexer": "ipython3",
   "version": "3.10.5"
  }
 },
 "nbformat": 4,
 "nbformat_minor": 5
}
